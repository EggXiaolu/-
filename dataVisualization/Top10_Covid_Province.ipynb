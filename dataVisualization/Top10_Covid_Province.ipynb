{
 "cells": [
  {
   "cell_type": "code",
   "execution_count": null,
   "metadata": {
    "collapsed": true
   },
   "outputs": [
    {
     "ename": "",
     "evalue": "",
     "output_type": "error",
     "traceback": [
      "\u001b[1;31mRunning cells with 'Python 3.10.8 64-bit' requires ipykernel package.\n",
      "\u001b[1;31mRun the following command to install 'ipykernel' into the Python environment. \n",
      "\u001b[1;31mCommand: '/bin/python -m pip install ipykernel -U --user --force-reinstall'"
     ]
    }
   ],
   "source": [
    "%matplotlib notebook\n",
    "import pandas as pd\n",
    "import matplotlib.pyplot as plt\n",
    "import matplotlib.animation as animation\n",
    "from pylab import mpl\n",
    "# 设置显示中文字体\n",
    "mpl.rcParams[\"font.sans-serif\"] = [\"SimHei\"]\n",
    "# 设置正常显示符号\n",
    "mpl.rcParams[\"axes.unicode_minus\"] = False\n",
    "\n",
    "# 1. 数据准备\n",
    "# 1.1 加载中国各省疫情数据\n",
    "datas = pd.read_json('../data/corona_virus_of_china.json')\n",
    "# 1.2 筛选出当天累计确诊的前十的省份的数据\n",
    "# 获取最近一天的疫情数据\n",
    "max_date = datas['dateId'].max()\n",
    "# 按累计确诊排名\n",
    "tmp_data = datas[datas['dateId'] == max_date].sort_values(by='confirmedCount', ascending=False)\n",
    "# 获取累计确诊前十的省份的名字\n",
    "top_10_province_names = tmp_data.iloc[:10].provinceName.values\n",
    "# print(top_10_province_names)\n",
    "# 获取top10省份的疫情数据\n",
    "top_10_data = datas[datas.provinceName.isin(top_10_province_names)]\n",
    "\n",
    "# 统计从1月23号以来前10省份的现有确诊人数\n",
    "final_data = top_10_data.pivot_table(values='currentConfirmedCount', index='dateId', columns='provinceName')\n",
    "final_data.fillna(0, inplace=True)\n",
    "\n",
    "# # 1.3 省份颜色字典, 相同省份, 使用相同的数据条\n",
    "colors = ['r', 'g', 'deepskyblue', 'm', 'c', 'yellow', 'gold', 'lime', 'hotpink', 'orange']\n",
    "color_map = dict(zip(final_data.columns, colors))\n",
    "# print(color_map)\n",
    "# print(final_data)\n",
    "\n",
    "# 创建绘制条形图的画布与坐标\n",
    "fig, ax = plt.subplots(figsize=(10, 8))\n",
    "\n",
    "# 绘制条形图\n",
    "def draw_barchart(day):\n",
    "    # 清空坐标系\n",
    "    ax.clear()\n",
    "    # 准备绘制数据\n",
    "    day_data = final_data.loc[day].sort_values()\n",
    "    # 生成每一个国家对应的条形的图的颜色\n",
    "    color = [color_map[name] for name in day_data.index]\n",
    "    # 绘制条形图\n",
    "    ax.barh(day_data.index, day_data.values, height=0.5, color=color)\n",
    "    # 使用当天展示数据最大值除以200, 作为调整文本位置依据\n",
    "    dx = day_data.values.max() / 200\n",
    "    # 遍历国家及其疫情数据\n",
    "    for i, (name, value) in enumerate(zip(day_data.index, day_data.values)):\n",
    "        # 条形图偏离坐标轴10dx, 才在条形图上加入国家名称\n",
    "        if value / dx > 20:\n",
    "            ax.text(value - dx, i, name, size=14, weight=600, ha='right', va='center')\n",
    "        # 设置条形图头上的疫情数字\n",
    "        ax.text(value + dx, i, f'{value:,.0f}', size=14, ha='left', va='center')\n",
    "\n",
    "    # 显示日期\n",
    "    ax.text(1, 0.4, str(day)[4:], transform=ax.transAxes, size=20, weight=800, ha='right', color='#777777')\n",
    "    # 设置标题\n",
    "    ax.text(0, 1.06, '现有确诊病例', transform=ax.transAxes, size=12, color='#777777')\n",
    "    ax.text(0, 1.10, 'Top10省份现有确诊病例对比', transform=ax.transAxes, size=24, weight=600)\n",
    "    # 设置x轴刻度的位置在顶部\n",
    "    ax.xaxis.set_ticks_position('top')\n",
    "    # 设置标签字体\n",
    "    ax.tick_params(axis='x', color='#777777', labelsize=12)\n",
    "    # 设置图形\n",
    "    ax.margins(0, 0.02)\n",
    "    # 设置网格\n",
    "    ax.grid(which='major', axis='x', linestyle='-')\n",
    "    ax.set_axisbelow(True)\n",
    "    plt.box(False)\n",
    "    plt.show()\n",
    "\n",
    "# 添加动画\n",
    "animation = animation.FuncAnimation(fig, draw_barchart, frames=final_data.index.values, repeat=False);\n",
    "plt.show()"
   ]
  }
 ],
 "metadata": {
  "kernelspec": {
   "display_name": "Python 3.10.8 64-bit",
   "language": "python",
   "name": "python3"
  },
  "language_info": {
   "codemirror_mode": {
    "name": "ipython",
    "version": 2
   },
   "file_extension": ".py",
   "mimetype": "text/x-python",
   "name": "python",
   "nbconvert_exporter": "python",
   "pygments_lexer": "ipython2",
   "version": "3.10.8"
  },
  "vscode": {
   "interpreter": {
    "hash": "e7370f93d1d0cde622a1f8e1c04877d8463912d04d973331ad4851f04de6915a"
   }
  }
 },
 "nbformat": 4,
 "nbformat_minor": 0
}
