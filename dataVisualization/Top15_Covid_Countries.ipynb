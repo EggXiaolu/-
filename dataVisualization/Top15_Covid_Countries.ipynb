{
 "cells": [
  {
   "cell_type": "code",
   "execution_count": null,
   "metadata": {
    "collapsed": true
   },
   "outputs": [],
   "source": [
    "%matplotlib notebook\n",
    "\n",
    "import pandas as pd\n",
    "import matplotlib.pyplot as plt\n",
    "import matplotlib.animation as animation\n",
    "from pylab import mpl\n",
    "# 设置显示中文字体\n",
    "mpl.rcParams[\"font.sans-serif\"] = [\"SimHei\"]\n",
    "# 设置正常显示符号\n",
    "mpl.rcParams[\"axes.unicode_minus\"] = False\n",
    "\n",
    "# 1. 数据准备\n",
    "# 1.1 加载各国疫情数据\n",
    "datas = pd.read_json('../data/corona_virus.json')\n",
    "# 1.2 获取最近一日累计确诊前10的国家\n",
    "laest_day_datas = datas[datas.dateId == (datas.dateId.max()-1)]\n",
    "\n",
    "# print(laest_day_datas)\n",
    "# 1.3 统计累计确诊前十的国家名称\n",
    "confirmed_count_top15_country_names = laest_day_datas.sort_values(by='confirmedCount', ascending=False).head(15).provinceName\n",
    "# 1.4 获取累计确诊前十国家的数据\n",
    "top15_countries_datas = datas[datas.provinceName.isin(confirmed_count_top15_country_names)]\n",
    "# 1.5 统计前十国家每天的现有确诊数量\n",
    "final_datas = top15_countries_datas.pivot_table(values='currentConfirmedCount', index='dateId', columns='provinceName')\n",
    "# 1.6 没有数据的使用null进行填充\n",
    "final_datas.fillna(0, inplace=True)\n",
    "\n",
    "# print(final_datas)\n",
    "\n",
    "fig, ax = plt.subplots(figsize=(10, 8))\n",
    "# 1.3 国家颜色字典, 相同国家, 使用相同的数据条\n",
    "colors = ['r', 'g', 'deepskyblue', 'm', 'c', 'yellow', 'gold', 'lime', 'hotpink', 'orange', 'fuchsia', 'deeppink', 'darkviolet', 'teal', 'dodgerblue' ]\n",
    "color_map = dict(zip(final_datas.columns, colors))\n",
    "# print(color_map)\n",
    "\n",
    "# 绘制条形图\n",
    "def draw_barchart(day):\n",
    "    # 清空坐标系\n",
    "    ax.clear()\n",
    "    # 准备绘制数据\n",
    "    day_data = final_datas.loc[day].sort_values()\n",
    "    # 生成每一个国家对应的条形的图的颜色\n",
    "    color = [color_map[name] for name in day_data.index]\n",
    "    # 绘制条形图\n",
    "    ax.barh(day_data.index, day_data.values, height=0.5, color=color)\n",
    "    # 使用当天展示数据最大值除以200, 作为调整文本位置依据\n",
    "    dx = day_data.values.max() / 200\n",
    "    # 遍历国家及其疫情数据\n",
    "    for i, (name, value) in enumerate(zip(day_data.index, day_data.values)):\n",
    "        # 条形图偏离坐标轴10dx, 才在条形图上加入国家名称\n",
    "        if value / dx > 10:\n",
    "            ax.text(value-dx, i, name, size=14, weight=600, ha='right', va='center')\n",
    "        # 设置条形图头上的疫情数字\n",
    "        ax.text(value+dx, i, f'{value:,.0f}', size=14, ha='left', va='center' )\n",
    "    # 显示日期\n",
    "    ax.text(1, 0.4, str(day)[4:], transform=ax.transAxes, size=20, weight=800, ha='right', color='#777777')\n",
    "\n",
    "    # 设置标题\n",
    "    ax.text(0, 1.06, '现有确诊病例', transform=ax.transAxes, size=12, color='#777777')\n",
    "    ax.text(0, 1.10, 'Top15国现有确诊病例对比', transform=ax.transAxes, size=24, weight=600)\n",
    "    # 设置x轴刻度的位置在顶部\n",
    "    ax.xaxis.set_ticks_position('top')\n",
    "    # 设置网格\n",
    "    ax.grid(which='major', axis='x', linestyle='-')\n",
    "    # 去掉边框线\n",
    "    plt.box(False)\n",
    "\n",
    "draw_barchart(final_datas.index.values[0])\n",
    "# 添加动画\n",
    "animation = animation.FuncAnimation(fig, draw_barchart, frames=final_datas.index.values[:-1], repeat=False);\n",
    "plt.show()"
   ]
  }
 ],
 "metadata": {
  "kernelspec": {
   "display_name": "Python 3.10.8 64-bit",
   "language": "python",
   "name": "python3"
  },
  "language_info": {
   "codemirror_mode": {
    "name": "ipython",
    "version": 2
   },
   "file_extension": ".py",
   "mimetype": "text/x-python",
   "name": "python",
   "nbconvert_exporter": "python",
   "pygments_lexer": "ipython2",
   "version": "3.10.8"
  },
  "vscode": {
   "interpreter": {
    "hash": "e7370f93d1d0cde622a1f8e1c04877d8463912d04d973331ad4851f04de6915a"
   }
  }
 },
 "nbformat": 4,
 "nbformat_minor": 0
}
